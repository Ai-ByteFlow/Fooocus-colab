{
  "nbformat": 4,
  "nbformat_minor": 0,
  "metadata": {
    "colab": {
      "provenance": [],
      "gpuType": "T4",
      "authorship_tag": "ABX9TyO+iYiQyRp3gfLT+tHqNW9y",
      "include_colab_link": true
    },
    "kernelspec": {
      "name": "python3",
      "display_name": "Python 3"
    },
    "language_info": {
      "name": "python"
    },
    "accelerator": "GPU"
  },
  "cells": [
    {
      "cell_type": "markdown",
      "metadata": {
        "id": "view-in-github",
        "colab_type": "text"
      },
      "source": [
        "<a href=\"https://colab.research.google.com/github/Ai-ByteFlow/Fooocus-colab/blob/master/DreamShaperXL1_0.ipynb\" target=\"_parent\"><img src=\"https://colab.research.google.com/assets/colab-badge.svg\" alt=\"Open In Colab\"/></a>"
      ]
    },
    {
      "cell_type": "code",
      "execution_count": null,
      "metadata": {
        "id": "2lCitCCmfukt"
      },
      "outputs": [],
      "source": [
        "!curl -Lo DreamShaperXL1.0.zip https://huggingface.co/byteflow/colab/resolve/main/DreamShaperXL1.0.zip?download=true\n",
        "!unzip /content/DreamShaperXL1.0.zip\n",
        "%cd /content/DreamShaperXL1.0\n",
        "!python3 launch.py --share"
      ]
    }
  ]
}