{
  "nbformat": 4,
  "nbformat_minor": 0,
  "metadata": {
    "colab": {
      "provenance": [],
      "gpuType": "T4",
      "authorship_tag": "ABX9TyNwdcMZ0Wd0a+4TeysOQ1nB",
      "include_colab_link": true
    },
    "kernelspec": {
      "name": "python3",
      "display_name": "Python 3"
    },
    "language_info": {
      "name": "python"
    },
    "accelerator": "GPU"
  },
  "cells": [
    {
      "cell_type": "markdown",
      "metadata": {
        "id": "view-in-github",
        "colab_type": "text"
      },
      "source": [
        "<a href=\"https://colab.research.google.com/github/Ai-ByteFlow/Fooocus-colab/blob/master/XXMix_9realisticSDXL.ipynb\" target=\"_parent\"><img src=\"https://colab.research.google.com/assets/colab-badge.svg\" alt=\"Open In Colab\"/></a>"
      ]
    },
    {
      "cell_type": "code",
      "execution_count": null,
      "metadata": {
        "id": "Veto5Fejnw0F"
      },
      "outputs": [],
      "source": [
        "!curl -Lo XXMix_9realisticSDXL.zip https://huggingface.co/byteflow/colab/resolve/main/XXMix_9realisticSDXL.zip?download=true\n",
        "!unzip /content/XXMix_9realisticSDXL.zip\n",
        "%cd /content/XXMix_9realisticSDXL\n",
        "!python3 launch.py --share"
      ]
    }
  ]
}